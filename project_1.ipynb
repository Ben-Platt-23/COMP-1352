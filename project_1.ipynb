{
 "cells": [
  {
   "cell_type": "code",
   "execution_count": 1,
   "metadata": {},
   "outputs": [
    {
     "name": "stdout",
     "output_type": "stream",
     "text": [
      "Welcome to Pico Fermi Bagels!\n",
      "Try to guess the three-digit number with no repeating digits.\n",
      "Bagels!\n",
      "Pico! Pico! "
     ]
    },
    {
     "ename": "IndexError",
     "evalue": "string index out of range",
     "output_type": "error",
     "traceback": [
      "\u001b[1;31m---------------------------------------------------------------------------\u001b[0m",
      "\u001b[1;31mIndexError\u001b[0m                                Traceback (most recent call last)",
      "Cell \u001b[1;32mIn[1], line 53\u001b[0m\n\u001b[0;32m     50\u001b[0m             \u001b[38;5;28mprint\u001b[39m(\u001b[38;5;124m\"\u001b[39m\u001b[38;5;124mBagels!\u001b[39m\u001b[38;5;124m\"\u001b[39m)\n\u001b[0;32m     52\u001b[0m \u001b[38;5;28;01mif\u001b[39;00m \u001b[38;5;18m__name__\u001b[39m \u001b[38;5;241m==\u001b[39m \u001b[38;5;124m\"\u001b[39m\u001b[38;5;124m__main__\u001b[39m\u001b[38;5;124m\"\u001b[39m:\n\u001b[1;32m---> 53\u001b[0m     \u001b[43mplay_game\u001b[49m\u001b[43m(\u001b[49m\u001b[43m)\u001b[49m\n",
      "Cell \u001b[1;32mIn[1], line 39\u001b[0m, in \u001b[0;36mplay_game\u001b[1;34m()\u001b[0m\n\u001b[0;32m     35\u001b[0m     \u001b[38;5;28;01mcontinue\u001b[39;00m\n\u001b[0;32m     37\u001b[0m attempts \u001b[38;5;241m+\u001b[39m\u001b[38;5;241m=\u001b[39m \u001b[38;5;241m1\u001b[39m\n\u001b[1;32m---> 39\u001b[0m fermi, pico \u001b[38;5;241m=\u001b[39m \u001b[43mevaluate_guess\u001b[49m\u001b[43m(\u001b[49m\u001b[43msecret_number\u001b[49m\u001b[43m,\u001b[49m\u001b[43m \u001b[49m\u001b[43mguess\u001b[49m\u001b[43m)\u001b[49m\n\u001b[0;32m     41\u001b[0m \u001b[38;5;28;01mif\u001b[39;00m fermi \u001b[38;5;241m==\u001b[39m \u001b[38;5;241m3\u001b[39m:\n\u001b[0;32m     42\u001b[0m     \u001b[38;5;28mprint\u001b[39m(\u001b[38;5;124m\"\u001b[39m\u001b[38;5;124mFermi! Fermi! Fermi!\u001b[39m\u001b[38;5;124m\"\u001b[39m)\n",
      "Cell \u001b[1;32mIn[1], line 13\u001b[0m, in \u001b[0;36mevaluate_guess\u001b[1;34m(secret_number, guess)\u001b[0m\n\u001b[0;32m     10\u001b[0m pico_count \u001b[38;5;241m=\u001b[39m \u001b[38;5;241m0\u001b[39m\n\u001b[0;32m     12\u001b[0m \u001b[38;5;28;01mfor\u001b[39;00m i \u001b[38;5;129;01min\u001b[39;00m \u001b[38;5;28mrange\u001b[39m(\u001b[38;5;241m3\u001b[39m):\n\u001b[1;32m---> 13\u001b[0m     \u001b[38;5;28;01mif\u001b[39;00m \u001b[43mguess\u001b[49m\u001b[43m[\u001b[49m\u001b[43mi\u001b[49m\u001b[43m]\u001b[49m \u001b[38;5;241m==\u001b[39m secret_number[i]:\n\u001b[0;32m     14\u001b[0m         fermi_count \u001b[38;5;241m+\u001b[39m\u001b[38;5;241m=\u001b[39m \u001b[38;5;241m1\u001b[39m\n\u001b[0;32m     15\u001b[0m     \u001b[38;5;28;01melif\u001b[39;00m guess[i] \u001b[38;5;129;01min\u001b[39;00m secret_number:\n",
      "\u001b[1;31mIndexError\u001b[0m: string index out of range"
     ]
    }
   ],
   "source": [
    "import random\n",
    "\n",
    "def generate_number():\n",
    "    digits = [str(i) for i in range(10)]\n",
    "    random.shuffle(digits)\n",
    "    return ''.join(digits[:3])\n",
    "\n",
    "def evaluate_guess(secret_number, guess):\n",
    "    fermi_count = 0\n",
    "    pico_count = 0\n",
    "\n",
    "    for i in range(3):\n",
    "        if guess[i] == secret_number[i]:\n",
    "            fermi_count += 1\n",
    "        elif guess[i] in secret_number:\n",
    "            pico_count += 1\n",
    "\n",
    "    return fermi_count, pico_count\n",
    "\n",
    "def is_valid_guess(guess):\n",
    "    return len(set(guess)) == len(guess)\n",
    "\n",
    "def play_game():\n",
    "    secret_number = generate_number()\n",
    "    attempts = 0\n",
    "\n",
    "    print(\"Welcome to Pico Fermi Bagels!\")\n",
    "    print(\"Try to guess the three-digit number with no repeating digits.\")\n",
    "\n",
    "    while True:\n",
    "        guess = input(\"Enter your guess: \")\n",
    "\n",
    "        if not is_valid_guess(guess):\n",
    "            print(\"Invalid guess! Make sure to enter a number with no repeated digits.\")\n",
    "            continue\n",
    "\n",
    "        attempts += 1\n",
    "\n",
    "        fermi, pico = evaluate_guess(secret_number, guess)\n",
    "\n",
    "        if fermi == 3:\n",
    "            print(\"Fermi! Fermi! Fermi!\")\n",
    "            print(f\"Congratulations! You guessed the number in {attempts} attempts.\")\n",
    "            break\n",
    "        elif fermi > 0:\n",
    "            print(f\"Fermi! \" * fermi, end=\"\")\n",
    "        elif pico > 0:\n",
    "            print(f\"Pico! \" * pico, end=\"\")\n",
    "        else:\n",
    "            print(\"Bagels!\")\n",
    "\n",
    "if __name__ == \"__main__\":\n",
    "    play_game()"
   ]
  }
 ],
 "metadata": {
  "kernelspec": {
   "display_name": "Python 3",
   "language": "python",
   "name": "python3"
  },
  "language_info": {
   "codemirror_mode": {
    "name": "ipython",
    "version": 3
   },
   "file_extension": ".py",
   "mimetype": "text/x-python",
   "name": "python",
   "nbconvert_exporter": "python",
   "pygments_lexer": "ipython3",
   "version": "3.11.7"
  }
 },
 "nbformat": 4,
 "nbformat_minor": 2
}
