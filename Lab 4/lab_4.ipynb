{
 "cells": [
  {
   "cell_type": "code",
   "execution_count": 12,
   "metadata": {},
   "outputs": [
    {
     "name": "stdout",
     "output_type": "stream",
     "text": [
      "Time taken for n=100: 2.2615556716918945 seconds\n",
      "Time taken for n=200: 35.53792691230774 seconds\n",
      "Time taken for n=300: 177.77208805084229 seconds\n"
     ]
    }
   ],
   "source": [
    "import time\n",
    "\n",
    "def max(some_list: list) -> int:\n",
    "    max_value = some_list[0][0]\n",
    "    for row in some_list:\n",
    "        for value in row:\n",
    "            if value > max_value:\n",
    "                max_value = value\n",
    "    return max_value\n",
    "\n",
    "def normalize(some_list: list) -> list:\n",
    "    scaled = [[value / max(some_list) for value in row] for row in some_list]\n",
    "    return scaled\n",
    "\n",
    "def main():\n",
    "    values_of_n = [100, 200, 300]\n",
    "\n",
    "    for n in values_of_n:\n",
    "        nested_list = [[j * n + i + 1 for i in range(n)] for j in range(n)]\n",
    "\n",
    "        # Time the normalize function call\n",
    "        start_time = time.time()\n",
    "        scaled = normalize(nested_list)\n",
    "        end_time = time.time()\n",
    "\n",
    "        print(f\"Time taken for n={n}: {end_time - start_time} seconds\")\n",
    "\n",
    "# Run the program:\n",
    "if __name__ == '__main__':\n",
    "    main()"
   ]
  },
  {
   "cell_type": "code",
   "execution_count": 13,
   "metadata": {},
   "outputs": [
    {
     "name": "stdout",
     "output_type": "stream",
     "text": [
      "78.60610741359687\n"
     ]
    }
   ],
   "source": [
    "print(177.77208805084229 / 2.2615556716918945)"
   ]
  },
  {
   "cell_type": "code",
   "execution_count": null,
   "metadata": {},
   "outputs": [],
   "source": [
    "import time\n",
    "\n",
    "def max_value(some_list: list) -> int:\n",
    "    return max(max(row) for row in some_list)\n",
    "\n",
    "def normalize(some_list: list) -> list:\n",
    "    max_val = max_value(some_list)\n",
    "    scaled = [[value / max_val for value in row] for row in some_list]\n",
    "    return scaled\n",
    "\n",
    "def main():\n",
    "    values_of_n = [100, 200, 300]\n",
    "\n",
    "    for n in values_of_n:\n",
    "        nested_list = [[j * n + i + 1 for i in range(n)] for j in range(n)]\n",
    "\n",
    "        # Time the normalize function call\n",
    "        start_time = time.time()\n",
    "        scaled = normalize(nested_list)\n",
    "        end_time = time.time()\n",
    "\n",
    "        print(f\"Time taken for n={n}: {end_time - start_time} seconds\")\n",
    "\n",
    "# Run the program:\n",
    "if __name__ == '__main__':\n",
    "    main()"
   ]
  }
 ],
 "metadata": {
  "kernelspec": {
   "display_name": "Python 3",
   "language": "python",
   "name": "python3"
  },
  "language_info": {
   "codemirror_mode": {
    "name": "ipython",
    "version": 3
   },
   "file_extension": ".py",
   "mimetype": "text/x-python",
   "name": "python",
   "nbconvert_exporter": "python",
   "pygments_lexer": "ipython3",
   "version": "3.11.7"
  }
 },
 "nbformat": 4,
 "nbformat_minor": 2
}
