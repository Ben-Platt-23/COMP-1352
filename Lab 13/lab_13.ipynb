{
 "cells": [
  {
   "cell_type": "code",
   "execution_count": 1,
   "metadata": {},
   "outputs": [],
   "source": [
    "import dudraw\n",
    "\n",
    "def draw_circles(x: float, y: float, radius: float, n: int):\n",
    "    if n == 0:\n",
    "        return\n",
    "    else:\n",
    "        # Draw circle at current position\n",
    "        dudraw.circle(x, y, radius)\n",
    "        \n",
    "        # Recursive calls for circles in different positions\n",
    "        draw_circles(x + radius, y, radius / 2, n - 1)  # Right\n",
    "        draw_circles(x - radius, y, radius / 2, n - 1)  # Left\n",
    "        draw_circles(x, y + radius, radius / 2, n - 1)  # Up\n",
    "        draw_circles(x, y - radius, radius / 2, n - 1)  # Down\n",
    "\n",
    "# Set canvas size and scale\n",
    "dudraw.set_canvas_size(800, 800)\n",
    "dudraw.set_scale(-400, 400)\n",
    "\n",
    "# Draw circles\n",
    "draw_circles(0, 0, 100, 6)  # Start from the center of the canvas\n",
    "\n",
    "# Display the drawing\n",
    "dudraw.show()\n",
    "\n",
    "# Save the final image\n",
    "dudraw.save(\"recursive_drawing_circle.jpg\")\n"
   ]
  },
  {
   "cell_type": "code",
   "execution_count": 1,
   "metadata": {},
   "outputs": [],
   "source": [
    "import dudraw\n",
    "from math import cos, sin, radians\n",
    "\n",
    "def end_point(start_x: float, start_y: float, length: float, angle: float):\n",
    "    end_x = start_x + length * cos(radians(angle))\n",
    "    end_y = start_y + length * sin(radians(angle))\n",
    "    return (end_x, end_y)\n",
    "\n",
    "def draw_recursive_tree(x: float, y: float, length: float, angle: float, n: int):\n",
    "    if n == 0:\n",
    "        return\n",
    "    else:\n",
    "        # Draw the main trunk\n",
    "        end = end_point(x, y, length, angle)\n",
    "        dudraw.line(x, y, end[0], end[1])\n",
    "\n",
    "        # Recursive calls for two smaller trees\n",
    "        draw_recursive_tree(end[0], end[1], length * 0.7, angle + 45, n - 1)  # Right\n",
    "        draw_recursive_tree(end[0], end[1], length * 0.7, angle - 45, n - 1)  # Left\n",
    "\n",
    "# Set canvas size and scale\n",
    "dudraw.set_canvas_size(800, 800)\n",
    "dudraw.set_scale(-400, 400)\n",
    "\n",
    "# Draw the tree\n",
    "draw_recursive_tree(0, -300, 100, 90, 5)  # Start from the center of the canvas\n",
    "\n",
    "# Display the drawing\n",
    "dudraw.show()\n",
    "\n",
    "# Save the final image\n",
    "dudraw.save(\"recursive_drawing_tree.jpg\")\n"
   ]
  }
 ],
 "metadata": {
  "kernelspec": {
   "display_name": "Python 3",
   "language": "python",
   "name": "python3"
  },
  "language_info": {
   "codemirror_mode": {
    "name": "ipython",
    "version": 3
   },
   "file_extension": ".py",
   "mimetype": "text/x-python",
   "name": "python",
   "nbconvert_exporter": "python",
   "pygments_lexer": "ipython3",
   "version": "3.12.1"
  }
 },
 "nbformat": 4,
 "nbformat_minor": 2
}
