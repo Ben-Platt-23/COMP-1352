{
 "cells": [
  {
   "cell_type": "code",
   "execution_count": 2,
   "metadata": {},
   "outputs": [
    {
     "name": "stdout",
     "output_type": "stream",
     "text": [
      "Welcome to Wordle! You have six chances to guess the five-letter word.\n",
      "A letter G means you got that letter correct and in the right position.\n",
      "A letter Y means you matched that letter, but it is in the wrong position.\n",
      "A letter B means that letter does not appear in the correct word.\n",
      "That is not a valid five-letter word.\n",
      "That is not a valid five-letter word.\n",
      "That is not a valid five-letter word.\n",
      "That is not a valid five-letter word.\n",
      "That is not a valid five-letter word.\n",
      "That is not a valid five-letter word.\n",
      "You lose, you did not guess the word in 6 guesses.\n"
     ]
    }
   ],
   "source": [
    "import random\n",
    "\n",
    "def choose_word():\n",
    "    with open(\"usaWords.txt\") as f:\n",
    "        words = [word.strip() for word in f.readlines() if len(word.strip()) == 5]\n",
    "    return random.choice(words)\n",
    "\n",
    "def calculate_feedback(word, guess):\n",
    "    feedback = \"\"\n",
    "    for i in range(len(word)):\n",
    "        if guess[i] == word[i]:\n",
    "            feedback += 'G'\n",
    "        elif guess[i] in word:\n",
    "            feedback += 'Y'\n",
    "        else:\n",
    "            feedback += 'B'\n",
    "    return feedback\n",
    "\n",
    "def play_wordle():\n",
    "    word_to_guess = choose_word()\n",
    "    guesses = []\n",
    "    \n",
    "    print(\"Welcome to Wordle! You have six chances to guess the five-letter word.\")\n",
    "    print(\"A letter G means you got that letter correct and in the right position.\")\n",
    "    print(\"A letter Y means you matched that letter, but it is in the wrong position.\")\n",
    "    print(\"A letter B means that letter does not appear in the correct word.\")\n",
    "\n",
    "    for attempt in range(1, 7):\n",
    "        user_guess = input(\"What is your guess? \").lower()\n",
    "\n",
    "        if len(user_guess) != 5 or not user_guess.isalpha():\n",
    "            print(\"That is not a valid five-letter word.\")\n",
    "            continue\n",
    "\n",
    "        guesses.append((attempt, user_guess))\n",
    "        feedback = calculate_feedback(word_to_guess, user_guess)\n",
    "\n",
    "        print(\"Guess {}: {}  {}\".format(attempt, user_guess.upper(), feedback))\n",
    "\n",
    "        if feedback == 'GGGGG':\n",
    "            print(\"You win. You got it in {} guesses.\".format(attempt))\n",
    "            break\n",
    "\n",
    "    else:\n",
    "        print(\"You lose, you did not guess the word in 6 guesses.\")\n",
    "\n",
    "play_wordle()"
   ]
  },
  {
   "cell_type": "code",
   "execution_count": null,
   "metadata": {},
   "outputs": [],
   "source": []
  }
 ],
 "metadata": {
  "kernelspec": {
   "display_name": "Python 3",
   "language": "python",
   "name": "python3"
  },
  "language_info": {
   "codemirror_mode": {
    "name": "ipython",
    "version": 3
   },
   "file_extension": ".py",
   "mimetype": "text/x-python",
   "name": "python",
   "nbconvert_exporter": "python",
   "pygments_lexer": "ipython3",
   "version": "3.10.7"
  }
 },
 "nbformat": 4,
 "nbformat_minor": 2
}
