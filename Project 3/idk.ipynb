{
 "cells": [
  {
   "cell_type": "code",
   "execution_count": 1,
   "metadata": {},
   "outputs": [
    {
     "ename": "TypeError",
     "evalue": "point() takes 2 positional arguments but 3 were given",
     "output_type": "error",
     "traceback": [
      "\u001b[1;31m---------------------------------------------------------------------------\u001b[0m",
      "\u001b[1;31mTypeError\u001b[0m                                 Traceback (most recent call last)",
      "Cell \u001b[1;32mIn[1], line 58\u001b[0m\n\u001b[0;32m     56\u001b[0m \u001b[38;5;66;03m# Entry point\u001b[39;00m\n\u001b[0;32m     57\u001b[0m \u001b[38;5;28;01mif\u001b[39;00m \u001b[38;5;18m__name__\u001b[39m \u001b[38;5;241m==\u001b[39m \u001b[38;5;124m\"\u001b[39m\u001b[38;5;124m__main__\u001b[39m\u001b[38;5;124m\"\u001b[39m:\n\u001b[1;32m---> 58\u001b[0m     \u001b[43mmain\u001b[49m\u001b[43m(\u001b[49m\u001b[43m)\u001b[49m\n",
      "Cell \u001b[1;32mIn[1], line 48\u001b[0m, in \u001b[0;36mmain\u001b[1;34m()\u001b[0m\n\u001b[0;32m     46\u001b[0m     mx \u001b[38;5;241m=\u001b[39m \u001b[38;5;28mint\u001b[39m(dudraw\u001b[38;5;241m.\u001b[39mmouse_x())\n\u001b[0;32m     47\u001b[0m     my \u001b[38;5;241m=\u001b[39m \u001b[38;5;28mint\u001b[39m(dudraw\u001b[38;5;241m.\u001b[39mmouse_y())\n\u001b[1;32m---> 48\u001b[0m     \u001b[43mplace_sand\u001b[49m\u001b[43m(\u001b[49m\u001b[43mworld\u001b[49m\u001b[43m,\u001b[49m\u001b[43m \u001b[49m\u001b[43mmx\u001b[49m\u001b[43m,\u001b[49m\u001b[43m \u001b[49m\u001b[43mmy\u001b[49m\u001b[43m)\u001b[49m  \u001b[38;5;66;03m# Place sand at mouse position\u001b[39;00m\n\u001b[0;32m     50\u001b[0m \u001b[38;5;66;03m# Update the canvas\u001b[39;00m\n\u001b[0;32m     51\u001b[0m dudraw\u001b[38;5;241m.\u001b[39mshow()\n",
      "Cell \u001b[1;32mIn[1], line 35\u001b[0m, in \u001b[0;36mplace_sand\u001b[1;34m(world, x, y)\u001b[0m\n\u001b[0;32m     33\u001b[0m \u001b[38;5;28;01mif\u001b[39;00m world[y][x] \u001b[38;5;241m==\u001b[39m EMPTY:\n\u001b[0;32m     34\u001b[0m     world[y][x] \u001b[38;5;241m=\u001b[39m SAND\n\u001b[1;32m---> 35\u001b[0m     \u001b[43mupdate_pixel\u001b[49m\u001b[43m(\u001b[49m\u001b[43mx\u001b[49m\u001b[43m,\u001b[49m\u001b[43m \u001b[49m\u001b[43my\u001b[49m\u001b[43m,\u001b[49m\u001b[43m \u001b[49m\u001b[38;5;124;43m\"\u001b[39;49m\u001b[38;5;124;43mtan\u001b[39;49m\u001b[38;5;124;43m\"\u001b[39;49m\u001b[43m)\u001b[49m\n",
      "Cell \u001b[1;32mIn[1], line 24\u001b[0m, in \u001b[0;36mupdate_pixel\u001b[1;34m(x, y, color)\u001b[0m\n\u001b[0;32m     23\u001b[0m \u001b[38;5;28;01mdef\u001b[39;00m \u001b[38;5;21mupdate_pixel\u001b[39m(x, y, color):\n\u001b[1;32m---> 24\u001b[0m     \u001b[43mdudraw\u001b[49m\u001b[38;5;241;43m.\u001b[39;49m\u001b[43mpoint\u001b[49m\u001b[43m(\u001b[49m\u001b[43mx\u001b[49m\u001b[43m,\u001b[49m\u001b[43m \u001b[49m\u001b[43my\u001b[49m\u001b[43m,\u001b[49m\u001b[43m \u001b[49m\u001b[43mcolor\u001b[49m\u001b[43m)\u001b[49m\n",
      "\u001b[1;31mTypeError\u001b[0m: point() takes 2 positional arguments but 3 were given"
     ]
    },
    {
     "ename": "",
     "evalue": "",
     "output_type": "error",
     "traceback": [
      "\u001b[1;31mThe Kernel crashed while executing code in the current cell or a previous cell. \n",
      "\u001b[1;31mPlease review the code in the cell(s) to identify a possible cause of the failure. \n",
      "\u001b[1;31mClick <a href='https://aka.ms/vscodeJupyterKernelCrash'>here</a> for more info. \n",
      "\u001b[1;31mView Jupyter <a href='command:jupyter.viewOutput'>log</a> for further details."
     ]
    }
   ],
   "source": [
    "import dudraw\n",
    "import time\n",
    "import random\n",
    "\n",
    "# Constants\n",
    "EMPTY = 0\n",
    "SAND = 1\n",
    "\n",
    "# Function to create and initialize the sand world\n",
    "def create_world(rows, cols):\n",
    "    world = [[EMPTY for _ in range(cols)] for _ in range(rows)]\n",
    "    return world\n",
    "\n",
    "# Function to draw the world\n",
    "def draw_world(world):\n",
    "    # Draw each particle\n",
    "    for y in range(len(world)):\n",
    "        for x in range(len(world[0])):\n",
    "            if world[y][x] == SAND:\n",
    "                dudraw.point(x, y)  # Draw sand particle without specifying color\n",
    "\n",
    "# Function to update a pixel\n",
    "def update_pixel(x, y, color):\n",
    "    dudraw.point(x, y, color)\n",
    "\n",
    "# Function to initialize canvas and set scale\n",
    "def initialize():\n",
    "    dudraw.set_canvas_size(512, 512)  # Set canvas size\n",
    "    dudraw.set_scale(0, 100)  # Set scale\n",
    "\n",
    "# Function to place sand particle\n",
    "def place_sand(world, x, y):\n",
    "    if world[y][x] == EMPTY:\n",
    "        world[y][x] = SAND\n",
    "        update_pixel(x, y, \"tan\")  # Update canvas\n",
    "\n",
    "# Main function\n",
    "def main():\n",
    "    initialize()  # Initialize canvas and set scale\n",
    "    world = create_world(100, 100)  # Create sand world\n",
    "    \n",
    "    # Animation loop\n",
    "    while True:\n",
    "        # Check if mouse button is pressed\n",
    "        if dudraw.mouse_is_pressed():\n",
    "            mx = int(dudraw.mouse_x())\n",
    "            my = int(dudraw.mouse_y())\n",
    "            place_sand(world, mx, my)  # Place sand at mouse position\n",
    "        \n",
    "        # Update the canvas\n",
    "        dudraw.show()\n",
    "\n",
    "        # Delay to control animation speed\n",
    "        time.sleep(0.05)\n",
    "\n",
    "# Entry point\n",
    "if __name__ == \"__main__\":\n",
    "    main()\n"
   ]
  }
 ],
 "metadata": {
  "kernelspec": {
   "display_name": "Python 3",
   "language": "python",
   "name": "python3"
  },
  "language_info": {
   "codemirror_mode": {
    "name": "ipython",
    "version": 3
   },
   "file_extension": ".py",
   "mimetype": "text/x-python",
   "name": "python",
   "nbconvert_exporter": "python",
   "pygments_lexer": "ipython3",
   "version": "3.12.1"
  }
 },
 "nbformat": 4,
 "nbformat_minor": 2
}
