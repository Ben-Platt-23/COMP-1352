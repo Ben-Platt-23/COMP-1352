{
 "cells": [
  {
   "cell_type": "code",
   "execution_count": null,
   "metadata": {},
   "outputs": [],
   "source": [
    "# class HW3:\n",
    "#     cv = 0\n",
    "\n",
    "#     def __init__(self, i: int):\n",
    "#         self.iv = 1\n",
    "#         HW3.cv += 1\n",
    "    \n",
    "#     def add(self, a:int=0):\n",
    "#         self.iv += a\n",
    "#         HW3.cv += 1\n",
    "    \n",
    "#     def __str__(self)->str:\n",
    "#         HW3.cv += 1\n",
    "#         return f\"iv: {self.iv}, cv: {HW3.cv }\"\n",
    "    "
   ]
  },
  {
   "cell_type": "code",
   "execution_count": null,
   "metadata": {},
   "outputs": [],
   "source": [
    "# obj1 = HW3(10)\n",
    "# obj2 = HW3(15)\n",
    "# obj1.add(9)\n",
    "# obj1.add(1)\n",
    "# obj2.add()\n",
    "# obj2.add(14)\n",
    "# print(f\"obj1: {obj1}\")\n",
    "# print(f\"obj2: {obj2}\")"
   ]
  },
  {
   "cell_type": "code",
   "execution_count": null,
   "metadata": {},
   "outputs": [],
   "source": [
    "# from __future__ import annotations \n",
    "# import copy \n",
    "# class Driver:\n",
    "#     def __init__(self, n: str, r: Route=None):\n",
    "#         self.name = n\n",
    "#         self.route = r\n",
    "    \n",
    "#     def __str__(self)->str:\n",
    "#         return f\"{selfname}, {self.route}\"\n",
    "\n",
    "# class Route:\n",
    "#     def __init__(self, s1: str, s2: str):\n",
    "#         self.stop1 = s1\n",
    "#         self.stop2 = s2\n",
    "#     def __str__(self)->str:\n",
    "#         return str(self.stop1) + \"->\" + str(self.stop2)\n",
    "\n",
    "# #main code block\n",
    "# route_1 = Route('Bank', 'Bar')\n",
    "# phyllis = Driver('Phyllis', route_1)\n",
    "# bob = phyllis\n",
    "# bob.name = 'Bob'\n",
    "# bob.route.stop2 = 'Grocery'\n",
    "# print(phyllis.name)\n",
    "# print(phyllis.route.stop2)\n",
    "\n",
    "# fred = copy.copy(bob)\n",
    "# fred.name = 'Fred'\n",
    "# fred.route.stop1 = 'Pharmacy'\n",
    "# print(bob.name)\n",
    "# print(bob.route.stop1)\n",
    "\n",
    "# ethel = Driver('Ethel', Route('Gym', 'Work'))\n",
    "# marge = copy.deepcopy(ethel)\n",
    "# marge.name ='Marge'\n",
    "# marge.route.stop1 = 'School'\n",
    "# print(ethel.name)\n",
    "# print(ethel.route.stop1)"
   ]
  },
  {
   "cell_type": "code",
   "execution_count": null,
   "metadata": {},
   "outputs": [],
   "source": [
    "from __future__ import annotations\n",
    "import copy\n",
    "class Driver:\n",
    "    def __init__(self, n: str, r:Route=None)\n",
    "        self.name = n\n",
    "        self.route = r\n",
    "    def __str__(self)->str:\n",
    "        return f\"({self.name}, {self.route})\"\n",
    "\n",
    "class Route:\n",
    "    def __init__(self, s1:str, s2:str):\n",
    "        self.stop1 = s1\n",
    "        self.stop2 = s2\n",
    "    def __str__(self)->str:\n",
    "        return str(self.stop1) + \"->\" + str(self.stop2)\n",
    "Route_1 = Route('Bank', 'Bar')\n",
    "Phyllis = Driver('Phyllis', Route_1)\n",
    "Bob1 = Phyllis\n",
    "Bob2 = copy.copy(Phyllis)\n",
    "Bob3 = copy.deepcopy(Phyllis)\n",
    "Phyllis.name = 'Sally'\n",
    "Phyllis.route.stop2 = 'Grocery'"
   ]
  },
  {
   "cell_type": "code",
   "execution_count": null,
   "metadata": {},
   "outputs": [],
   "source": []
  }
 ],
 "metadata": {
  "kernelspec": {
   "display_name": "Python 3",
   "language": "python",
   "name": "python3"
  },
  "language_info": {
   "codemirror_mode": {
    "name": "ipython",
    "version": 3
   },
   "file_extension": ".py",
   "mimetype": "text/x-python",
   "name": "python",
   "nbconvert_exporter": "python",
   "pygments_lexer": "ipython3",
   "version": "3.12.1"
  }
 },
 "nbformat": 4,
 "nbformat_minor": 2
}
