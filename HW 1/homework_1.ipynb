{
 "cells": [
  {
   "cell_type": "code",
   "execution_count": null,
   "metadata": {},
   "outputs": [],
   "source": [
    "def functionA(n:int=15)->int:\n",
    "    n = functionB()\n",
    "    print(\"In functionA\")\n",
    "    return n+1\n",
    "\n",
    "def functionB(n:int=10)->int:\n",
    "    n = functionC(2*n)\n",
    "    print(\"In functionB\")\n",
    "    return n+2\n",
    "\n",
    "def functionC(n:int)->None:\n",
    "    print(\"In functionC\")\n",
    "    return n+5\n",
    "\n",
    "result = functionA(3)\n",
    "print(result)"
   ]
  },
  {
   "cell_type": "code",
   "execution_count": 1,
   "metadata": {},
   "outputs": [],
   "source": [
    "#3\n",
    "import dudraw\n",
    "dudraw.set_canvas_size(400,400)\n",
    "dudraw.set_x_scale(0,4)\n",
    "dudraw.set_y_scale(0,4)\n",
    "dudraw.clear(dudraw.LIGHT_GRAY)\n",
    "dudraw.set_pen_color(dudraw.WHITE)\n",
    "\n",
    "for i in range(4):\n",
    "    for j in range(i+1):\n",
    "        dudraw.filled_circle(j+0.5, i+0.5, 0.5)\n",
    "dudraw.show(float('inf'))\n"
   ]
  },
  {
   "cell_type": "code",
   "execution_count": 1,
   "metadata": {},
   "outputs": [],
   "source": [
    "#4\n",
    "\n",
    "import dudraw\n",
    "dudraw.set_canvas_size(400, 400)\n",
    "dudraw.set_x_scale(0, 4)\n",
    "dudraw.set_y_scale(0, 4)\n",
    "dudraw.clear(dudraw.LIGHT_GRAY)\n",
    "dudraw.set_pen_color(dudraw.WHITE)\n",
    "\n",
    "for i in range(4):\n",
    "    for j in range(4):\n",
    "        dudraw.filled_circle(j+0.5, i+0.5, 0.5)\n",
    "        dudraw.show(1000)\n",
    "dudraw.show(float('inf'))\n"
   ]
  },
  {
   "cell_type": "code",
   "execution_count": null,
   "metadata": {},
   "outputs": [],
   "source": [
    "#5\n",
    "num_rows = int(input(\"How many rows? \"))\n",
    "num_columns = int(input(\"How many columns? \"))\n",
    "\n",
    "list_of_zeroes = []\n",
    "zero_row = []\n",
    "for column in range(num_columns):\n",
    "    zero_row.append(0)\n",
    "for row in range(num_rows):\n",
    "    list_of_zeroes.append(zero_row)\n",
    "print(list_of_zeroes)\n",
    "list_of_zeroes[0][0] = 1\n",
    "print(list_of_zeroes)"
   ]
  },
  {
   "cell_type": "code",
   "execution_count": 2,
   "metadata": {},
   "outputs": [
    {
     "name": "stdout",
     "output_type": "stream",
     "text": [
      "[1, 5]\n",
      "[2, 6]\n",
      "[3, 7]\n",
      "[4, 8]\n"
     ]
    }
   ],
   "source": [
    "#6\n",
    "\n",
    "def transpose_matrix(matrix):\n",
    "    transposed_matrix = []\n",
    "    \n",
    "    for col in range(len(matrix[0])):\n",
    "        transposed_row = []\n",
    "        for row in range(len(matrix)):\n",
    "            transposed_row.append(matrix[row][col])\n",
    "        \n",
    "        transposed_matrix.append(transposed_row)\n",
    "\n",
    "    return transposed_matrix\n",
    "\n",
    "original = [\n",
    "    [1, 2, 3, 4],\n",
    "    [5, 6, 7, 8]\n",
    "]\n",
    "\n",
    "result = transpose_matrix(original)\n",
    "\n",
    "for row in result:\n",
    "    print(row)"
   ]
  },
  {
   "cell_type": "code",
   "execution_count": 3,
   "metadata": {},
   "outputs": [],
   "source": [
    "#7 \n",
    "\n",
    "import random\n",
    "random.seed(112023)\n",
    "h = int(random.random()*15)\n",
    "w = int(random.random()*20)\n",
    "random_numbers = [[int(random.random()*1000) for col in range(w)] for row in range(h)]\n"
   ]
  },
  {
   "cell_type": "code",
   "execution_count": 4,
   "metadata": {},
   "outputs": [
    {
     "name": "stdout",
     "output_type": "stream",
     "text": [
      "14\n"
     ]
    }
   ],
   "source": [
    "#7a\n",
    "num_rows = len(random_numbers)\n",
    "print(num_rows)"
   ]
  },
  {
   "cell_type": "code",
   "execution_count": 5,
   "metadata": {},
   "outputs": [
    {
     "name": "stdout",
     "output_type": "stream",
     "text": [
      "19\n"
     ]
    }
   ],
   "source": [
    "#7b\n",
    "num_columns = len(random_numbers[0])\n",
    "print(num_columns)\n"
   ]
  },
  {
   "cell_type": "code",
   "execution_count": 6,
   "metadata": {},
   "outputs": [
    {
     "name": "stdout",
     "output_type": "stream",
     "text": [
      "995\n"
     ]
    }
   ],
   "source": [
    "#7c\n",
    "max_value = max(max(row) for row in random_numbers)\n",
    "print(max_value)"
   ]
  },
  {
   "cell_type": "code",
   "execution_count": 7,
   "metadata": {},
   "outputs": [
    {
     "name": "stdout",
     "output_type": "stream",
     "text": [
      "468\n"
     ]
    }
   ],
   "source": [
    "#7d\n",
    "average_value = round(sum(sum(row) for row in random_numbers) / (num_rows * num_columns))\n",
    "print(average_value)"
   ]
  },
  {
   "cell_type": "code",
   "execution_count": 8,
   "metadata": {},
   "outputs": [
    {
     "name": "stdout",
     "output_type": "stream",
     "text": [
      "[8623, 9683, 8561, 8029, 10192, 6918, 8281, 7263, 9063, 10278, 10357, 9426, 9423, 8497]\n"
     ]
    }
   ],
   "source": [
    "#7e\n",
    "row_sums = [sum(row) for row in random_numbers]\n",
    "print(row_sums)"
   ]
  },
  {
   "cell_type": "code",
   "execution_count": 9,
   "metadata": {},
   "outputs": [
    {
     "name": "stdout",
     "output_type": "stream",
     "text": [
      "[7932, 6402, 6507, 4525, 7102, 8379, 7372, 5112, 6171, 6566, 6879, 6710, 6386, 5402, 5913, 8430, 7717, 4846, 6243]\n"
     ]
    }
   ],
   "source": [
    "#7f\n",
    "column_sums = [sum(row[i] for row in random_numbers) for i in range(num_columns)]\n",
    "print(column_sums)"
   ]
  },
  {
   "cell_type": "code",
   "execution_count": null,
   "metadata": {},
   "outputs": [],
   "source": []
  }
 ],
 "metadata": {
  "kernelspec": {
   "display_name": "Python 3",
   "language": "python",
   "name": "python3"
  },
  "language_info": {
   "codemirror_mode": {
    "name": "ipython",
    "version": 3
   },
   "file_extension": ".py",
   "mimetype": "text/x-python",
   "name": "python",
   "nbconvert_exporter": "python",
   "pygments_lexer": "ipython3",
   "version": "3.11.7"
  }
 },
 "nbformat": 4,
 "nbformat_minor": 2
}
