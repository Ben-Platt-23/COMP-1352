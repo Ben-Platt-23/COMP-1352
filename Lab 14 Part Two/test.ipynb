{
 "cells": [
  {
   "cell_type": "code",
   "execution_count": 2,
   "metadata": {},
   "outputs": [],
   "source": [
    "def selection_sort(nums: list[int])->None:\n",
    "    for i in range(len(nums) - 1):\n",
    "        # Find index of smallest remaining element \n",
    "        index_smallest = 1\n",
    "        for j in range(i + 1, len(nums)):\n",
    "            if nums[j] < nums[index_smallest]:\n",
    "                index_smallest = j\n",
    "        \n",
    "        temp = nums[i]\n",
    "        nums[i] = nums[index_smallest]\n",
    "        nums[index_smallest] = temp\n",
    "\n",
    "def insertion_sort(nums: list[int])->None:\n",
    "    for i in range(1, len(nums)):\n",
    "        j = i\n",
    "        # Insert nums[i] into sorted part\n",
    "        # stopping once nums[i] in correct position \n",
    "        while j > 0 and nums[j] < nums[j - 1]:\n",
    "            # Swap nums[j] and nums[j-1]\n",
    "            temp = nums[j]\n",
    "            nums[j] = nums[j - 1]\n",
    "            nums[j - 1] = temp\n",
    "            j = j -1"
   ]
  },
  {
   "cell_type": "code",
   "execution_count": null,
   "metadata": {},
   "outputs": [],
   "source": []
  }
 ],
 "metadata": {
  "kernelspec": {
   "display_name": "Python 3",
   "language": "python",
   "name": "python3"
  },
  "language_info": {
   "codemirror_mode": {
    "name": "ipython",
    "version": 3
   },
   "file_extension": ".py",
   "mimetype": "text/x-python",
   "name": "python",
   "nbconvert_exporter": "python",
   "pygments_lexer": "ipython3",
   "version": "undefined.undefined.undefined"
  }
 },
 "nbformat": 4,
 "nbformat_minor": 2
}
